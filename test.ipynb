{
 "cells": [
  {
   "cell_type": "code",
   "execution_count": null,
   "metadata": {},
   "outputs": [],
   "source": [
    "# courant criteria\n",
    "import numpy as np\n",
    "1/np.sqrt(3*(1/6e-3)**2)/(299792458)*1e9"
   ]
  },
  {
   "cell_type": "code",
   "execution_count": null,
   "metadata": {
    "scrolled": false
   },
   "outputs": [],
   "source": [
    "#import test\n",
    "import importlib\n",
    "reload(test)"
   ]
  },
  {
   "cell_type": "code",
   "execution_count": null,
   "metadata": {},
   "outputs": [],
   "source": [
    "%%writefile test.py\n",
    "import pyfdtd3d.structuredpoints_cupy as fdtd\n",
    "import pyfdtd3d.structuredpoints_ui as ui\n",
    "from pyfdtd3d.base import sin, vsrc\n",
    "import time\n",
    "\n",
    "class MySolver(ui.Solver):\n",
    "    def prepare(self):\n",
    "        p = self.parameters\n",
    "        self.time = t = fdtd.TimeSeries(p['dt']) # [second]\n",
    "        self.grid = g = fdtd.Grid(\n",
    "            dimensions=p['dimensions'], # [cells]\n",
    "            spacing=p['spacing'], # [mm]\n",
    "        )\n",
    "        self.yee = y = fdtd.Yee(grid=g)\n",
    "        self.material = m = fdtd.Material(*g.dimensions)\n",
    "        self.pml = fdtd.PMLSolver(yee=y, time=t, thickness=8)\n",
    "        self.hcalc = fdtd.HCalc(yee=y, time=t)\n",
    "        self.ecalc = fdtd.ECalc(yee=y, time=t, material=m)\n",
    "        self.currentz = fdtd.CurrentZ(yee=y)\n",
    "    def calculate(self):\n",
    "        y, t, hc, ec, cz = self.yee, self.time, self.hcalc, self.ecalc, self.currentz\n",
    "        b = self.pml\n",
    "        dx, dy, dz = y.grid.spacing\n",
    "        t.progress()\n",
    "        hc.calculate()\n",
    "        b.h_calc.dispatch()\n",
    "        b.h_com.dispatch()\n",
    "        t.progress()\n",
    "        ec.calculate()\n",
    "        b.e_calc.dispatch()\n",
    "        b.e_com.dispatch()\n",
    "        y.ez[15, 200, 201:207] = 0.\n",
    "        y.ez[15, 200, 194:200] = 0.\n",
    "        y.ez[15, 200, 200] = vsrc(voltage=sin(t.current_time, freq=2e+9), current=cz[15, 200, 200], delta=dz)\n",
    "\n",
    "s = MySolver(\n",
    "    dt=0.01e-9, # [second]\n",
    "    dimensions=(30, 400, 401), # [cells]\n",
    "    spacing=(6e-3, 6e-3, 6e-3), # [mm]\n",
    ")\n",
    "s.prepare()\n",
    "\n",
    "p = ui.Plotter(\n",
    "    yee=s.yee,\n",
    "    slices=(15, slice(None), slice(None)),\n",
    "    mapper=ui.LinearColorMapper(palette='Viridis256', low=-1, high=1),\n",
    ")\n",
    "\n",
    "u = ui.ControlPanel(p, s, counter_limit=1001, plot_every=10)"
   ]
  }
 ],
 "metadata": {
  "kernelspec": {
   "display_name": "Python 3",
   "language": "python",
   "name": "python3"
  },
  "language_info": {
   "codemirror_mode": {
    "name": "ipython",
    "version": 3
   },
   "file_extension": ".py",
   "mimetype": "text/x-python",
   "name": "python",
   "nbconvert_exporter": "python",
   "pygments_lexer": "ipython3",
   "version": "3.7.4"
  }
 },
 "nbformat": 4,
 "nbformat_minor": 2
}
