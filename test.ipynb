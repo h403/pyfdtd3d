{
 "cells": [
  {
   "cell_type": "code",
   "execution_count": null,
   "metadata": {},
   "outputs": [],
   "source": [
    "import constants as c\n",
    "c.MU0"
   ]
  },
  {
   "cell_type": "code",
   "execution_count": null,
   "metadata": {},
   "outputs": [],
   "source": [
    "# courant criteria\n",
    "import numpy as np\n",
    "1/np.sqrt(3*(1/6e-3)**2)/299792458"
   ]
  },
  {
   "cell_type": "code",
   "execution_count": null,
   "metadata": {},
   "outputs": [],
   "source": [
    "import numpy as np\n",
    "import constants as c\n",
    "c.MU0, c.EP0, 1/np.sqrt(c.MU0*c.EP0)"
   ]
  },
  {
   "cell_type": "code",
   "execution_count": null,
   "metadata": {},
   "outputs": [],
   "source": [
    "import structuredpoints_curtesian_cupy as fdtd\n",
    "import structuredpoints_curtesian_ui as ui\n",
    "from base import sin3\n",
    "\n",
    "freq = 1e+9 # [GHz]\n",
    "\n",
    "class MySolver(fdtd.Solver):\n",
    "    def sequence(self):\n",
    "        ex, ey, ez = self.yee.e\n",
    "        hx, hy, hz = self.yee.h\n",
    "        i, j, k = 50, 50, 25\n",
    "        self.time.progress_half_step()\n",
    "        self.calc_h()\n",
    "        print('hx', hx[i,j-1:j+1,k])\n",
    "        print('hy', hy[i-1:i+1,j,k])\n",
    "        self.time.progress_half_step()\n",
    "        self.calc_e()\n",
    "        ez[50, 50, 26:37] = 0.\n",
    "        ez[50, 50, 14:25] = 0.\n",
    "        self.source_z(i, j, k, sin3(self.time, freq), r=50.)\n",
    "        print('ez', ez[i-1:i+2,j-1:j+2,k])\n",
    "\n",
    "\n",
    "s = MySolver()\n",
    "s.grid.dimensions = 100, 100, 51 # [cells]\n",
    "s.grid.spacing = 6e-3, 6e-3, 6e-3 # [mm]\n",
    "s.time.dt = .01e-9 # [s]\n",
    "s.prepare()\n",
    "\n",
    "for i in range(2):\n",
    "    s.calculate()"
   ]
  },
  {
   "cell_type": "code",
   "execution_count": null,
   "metadata": {},
   "outputs": [],
   "source": [
    "import structuredpoints_curtesian_cupy as fdtd\n",
    "import structuredpoints_curtesian_ui as ui\n",
    "from base import sin3\n",
    "import time\n",
    "\n",
    "#f = fdtd.Fields()\n",
    "#f.alloc(1000,1000,100)\n",
    "\n",
    "freq = 1e+9 # [GHz]\n",
    "\n",
    "class MySolver(fdtd.Solver):\n",
    "    def sequence(self):\n",
    "        ex, ey, ez = self.yee.e\n",
    "        self.time.progress_half_step()\n",
    "        self.calc_h()\n",
    "        self.time.progress_half_step()\n",
    "        self.calc_e()\n",
    "        ez[50, 50, 26:37] = 0.\n",
    "        ez[50, 50, 14:25] = 0.\n",
    "        self.source_z(50, 50, 25, sin3(self.time, freq), r=50.)\n",
    "\n",
    "s = MySolver()\n",
    "\n",
    "s.grid.dimensions = 100, 100, 51 # [cells]\n",
    "s.grid.spacing = 6e-3, 6e-3, 6e-3 # [mm]\n",
    "s.time.dt = .01e-9 # [ns]\n",
    "\n",
    "s.prepare()\n",
    "\n",
    "u = ui.UI(s)\n",
    "u.mapper = ui.LinearColorMapper(palette='Viridis256', low=-1, high=1)\n",
    "u.slices = (50, slice(None), slice(None))\n",
    "u.render()"
   ]
  }
 ],
 "metadata": {
  "kernelspec": {
   "display_name": "Python 3",
   "language": "python",
   "name": "python3"
  },
  "language_info": {
   "codemirror_mode": {
    "name": "ipython",
    "version": 3
   },
   "file_extension": ".py",
   "mimetype": "text/x-python",
   "name": "python",
   "nbconvert_exporter": "python",
   "pygments_lexer": "ipython3",
   "version": "3.7.4"
  }
 },
 "nbformat": 4,
 "nbformat_minor": 2
}
