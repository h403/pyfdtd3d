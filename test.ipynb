{
 "cells": [
  {
   "cell_type": "code",
   "execution_count": null,
   "metadata": {},
   "outputs": [],
   "source": [
    "# courant criteria\n",
    "import numpy as np\n",
    "1/np.sqrt(3*(1/6e-3)**2)/299792458"
   ]
  },
  {
   "cell_type": "code",
   "execution_count": null,
   "metadata": {},
   "outputs": [],
   "source": [
    "import test"
   ]
  },
  {
   "cell_type": "code",
   "execution_count": null,
   "metadata": {},
   "outputs": [],
   "source": [
    "%%writefile test.py\n",
    "import pyfdtd3d.structuredpoints_cupy as fdtd\n",
    "import pyfdtd3d.structuredpoints_ui as ui\n",
    "from pyfdtd3d.base import sin3, vsrc\n",
    "import time\n",
    "\n",
    "class MySolver(ui.Solver):\n",
    "    def __init__(self, **kw):\n",
    "        ui.Solver.__init__(self, **kw)\n",
    "    def prepare(self):\n",
    "        p = self.parameters\n",
    "        self.time = t = fdtd.TimeSeries(p['dt']) # [second]\n",
    "        self.grid = g = fdtd.Grid(\n",
    "            dimensions=p['dimensions'], # [cells]\n",
    "            spacing=p['spacing'], # [mm]\n",
    "        )\n",
    "        self.yee = y = fdtd.Yee(grid=g)\n",
    "        self.material = m = fdtd.Material(*g.dimensions)\n",
    "        self.hcalc = fdtd.HCalc(yee=y, time=t)\n",
    "        self.ecalc = fdtd.ECalc(yee=y, time=t, material=m)\n",
    "        self.currentz = fdtd.CurrentZ(yee=y, pos=p['pos']) # <-- fdtd.CurrentZ(yee=y)\n",
    "    def calculate(self):\n",
    "        y, t, hc, ec, cz = self.yee, self.time, self.hcalc, self.ecalc, self.currentz\n",
    "        dx, dy, dz = y.grid.spacing\n",
    "        freq = self.parameters['freq']\n",
    "        t.progress()\n",
    "        hc.calculate()\n",
    "        t.progress()\n",
    "        ec.calculate()\n",
    "        y.ez[50, 50, 26:37] = 0.\n",
    "        y.ez[50, 50, 14:25] = 0.\n",
    "        y.ez[50, 50, 25] = vsrc(voltage=sin3(t.current_time, freq), current=cz.get(), delta=dz) # <-- cz[50, 50, 25]\n",
    "\n",
    "s = MySolver(\n",
    "    dt=0.01e-9, # [second]\n",
    "    dimensions=(100, 100, 51), # [cells]\n",
    "    spacing=(6e-3, 6e-3, 6e-3), # [mm]\n",
    "    pos=(50, 50, 25),\n",
    "    freq=1e+9, # [Hz]\n",
    ")\n",
    "s.prepare()\n",
    "\n",
    "p = ui.Plotter(\n",
    "    yee=s.yee,\n",
    "    slices=(50, slice(None), slice(None)),\n",
    "    mapper=ui.LinearColorMapper(palette='Viridis256', low=-1, high=1),\n",
    ")\n",
    "\n",
    "u = ui.ControlPanel(p, s)"
   ]
  }
 ],
 "metadata": {
  "kernelspec": {
   "display_name": "Python 3",
   "language": "python",
   "name": "python3"
  },
  "language_info": {
   "codemirror_mode": {
    "name": "ipython",
    "version": 3
   },
   "file_extension": ".py",
   "mimetype": "text/x-python",
   "name": "python",
   "nbconvert_exporter": "python",
   "pygments_lexer": "ipython3",
   "version": "3.7.4"
  }
 },
 "nbformat": 4,
 "nbformat_minor": 2
}
